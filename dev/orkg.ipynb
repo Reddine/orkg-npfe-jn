{
 "cells": [
  {
   "cell_type": "code",
   "execution_count": null,
   "metadata": {},
   "outputs": [],
   "source": [
    "from utils import save_dataset, save_paper\n",
    "import pandas as pd\n",
    "from rdflib import Graph\n",
    "from orkg import ORKG"
   ]
  },
  {
   "cell_type": "code",
   "execution_count": null,
   "metadata": {},
   "outputs": [],
   "source": [
    "dataset = pd.read_csv('Table.csv')\n",
    "dataset.head()\n",
    "\n",
    "monthly_resource = save_dataset(dataset.iloc[:12,:], 'Monthly overview')\n",
    "summary_resource = save_dataset(dataset.iloc[12:,:], 'Summary')\n",
    "\n",
    "print(monthly_resource)\n",
    "print(summary_resource)"
   ]
  },
  {
   "cell_type": "code",
   "execution_count": null,
   "metadata": {},
   "outputs": [],
   "source": [
    "g = Graph()\n",
    "g.parse('article.html', format='rdfa')"
   ]
  },
  {
   "cell_type": "code",
   "execution_count": null,
   "metadata": {},
   "outputs": [],
   "source": [
    "save_paper(g)"
   ]
  }
 ],
 "metadata": {
  "kernelspec": {
   "display_name": "Python 3",
   "language": "python",
   "name": "python3"
  },
  "language_info": {
   "codemirror_mode": {
    "name": "ipython",
    "version": 3
   },
   "file_extension": ".py",
   "mimetype": "text/x-python",
   "name": "python",
   "nbconvert_exporter": "python",
   "pygments_lexer": "ipython3",
   "version": "3.7.4"
  }
 },
 "nbformat": 4,
 "nbformat_minor": 4
}
