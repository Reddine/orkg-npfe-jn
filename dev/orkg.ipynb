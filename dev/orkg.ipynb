{
 "cells": [
  {
   "cell_type": "code",
   "execution_count": 1,
   "metadata": {},
   "outputs": [],
   "source": [
    "from utils import save_dataset, save_paper, query\n",
    "import pandas as pd\n",
    "from rdflib import Graph, URIRef, Literal, BNode\n",
    "from orkg import ORKG"
   ]
  },
  {
   "cell_type": "code",
   "execution_count": 2,
   "metadata": {},
   "outputs": [
    {
     "data": {
      "text/plain": [
       "<Graph identifier=Nb355609b129348639ad65b092e618354 (<class 'rdflib.graph.Graph'>)>"
      ]
     },
     "execution_count": 2,
     "metadata": {},
     "output_type": "execute_result"
    }
   ],
   "source": [
    "#parse('https://mstocker.solid.community/public/hamed07nucleation.html')\n",
    "url = 'https://reddine.solid.community/public/hamed07nucleation.html'\n",
    "g = Graph()\n",
    "g.parse(url, format='rdfa')"
   ]
  },
  {
   "cell_type": "code",
   "execution_count": 3,
   "metadata": {
    "scrolled": true
   },
   "outputs": [
    {
     "name": "stdout",
     "output_type": "stream",
     "text": [
      "@prefix acl: <http://www.w3.org/ns/auth/acl#> .\n",
      "@prefix as: <https://www.w3.org/ns/activitystreams#> .\n",
      "@prefix bibo: <http://purl.org/ontology/bibo/> .\n",
      "@prefix cc: <https://creativecommons.org/ns#> .\n",
      "@prefix cert: <http://www.w3.org/ns/auth/cert#> .\n",
      "@prefix cito: <http://purl.org/spar/cito/> .\n",
      "@prefix dbp: <http://dbpedia.org/property/> .\n",
      "@prefix dbr: <http://dbpedia.org/resource/> .\n",
      "@prefix dc: <http://purl.org/dc/terms/> .\n",
      "@prefix dcterms: <http://purl.org/dc/terms/> .\n",
      "@prefix dctypes: <http://purl.org/dc/dcmitype/> .\n",
      "@prefix deo: <http://purl.org/spar/deo/> .\n",
      "@prefix dio: <https://w3id.org/dio#> .\n",
      "@prefix doap: <http://usefulinc.com/ns/doap#> .\n",
      "@prefix doco: <http://purl.org/spar/doco/> .\n",
      "@prefix fabio: <http://purl.org/spar/fabio/> .\n",
      "@prefix foaf: <http://xmlns.com/foaf/0.1/> .\n",
      "@prefix ldp: <http://www.w3.org/ns/ldp#> .\n",
      "@prefix mem: <http://mementoweb.org/ns#> .\n",
      "@prefix oa: <http://www.w3.org/ns/oa#> .\n",
      "@prefix opmw: <http://www.opmw.org/ontology/> .\n",
      "@prefix orkg: <http://orkg.org/core#> .\n",
      "@prefix owl: <http://www.w3.org/2002/07/owl#> .\n",
      "@prefix pimspace: <http://www.w3.org/ns/pim/space#> .\n",
      "@prefix prov: <http://www.w3.org/ns/prov#> .\n",
      "@prefix qb: <http://purl.org/linked-data/cube#> .\n",
      "@prefix rdf: <http://www.w3.org/1999/02/22-rdf-syntax-ns#> .\n",
      "@prefix rdfs: <http://www.w3.org/2000/01/rdf-schema#> .\n",
      "@prefix rel: <https://www.w3.org/ns/iana/link-relations/relation#> .\n",
      "@prefix rsa: <http://www.w3.org/ns/auth/rsa#> .\n",
      "@prefix schema: <http://schema.org/> .\n",
      "@prefix sio: <http://semanticscience.org/resource/> .\n",
      "@prefix sioc: <http://rdfs.org/sioc/ns#> .\n",
      "@prefix skos: <http://www.w3.org/2004/02/skos/core#> .\n",
      "@prefix solid: <http://www.w3.org/ns/solid/terms#> .\n",
      "@prefix vivo: <http://vivoweb.org/ontology/core#> .\n",
      "@prefix void: <http://rdfs.org/ns/void#> .\n",
      "@prefix wgs: <http://www.w3.org/2003/01/geo/wgs84_pos#> .\n",
      "@prefix xml: <http://www.w3.org/XML/1998/namespace> .\n",
      "@prefix xsd: <http://www.w3.org/2001/XMLSchema#> .\n",
      "\n",
      "<https://dokie.li/new> a sioc:Post,\n",
      "        schema:CreativeWork,\n",
      "        prov:Entity .\n",
      "\n",
      "[] a bibo:Article,\n",
      "        schema:Article ;\n",
      "    orkg:hasResearchContribution [ a orkg:ResearchContribution ;\n",
      "            orkg:addresses [ a orkg:ResearchProblem ;\n",
      "                    orkg:label \"Temporal characteristics of nucleation events\"@en ] ;\n",
      "            orkg:yields orkg:R578 ] ;\n",
      "    orkg:hasResearchField orkg:R145 ;\n",
      "    dc:creator [ a foaf:Person ;\n",
      "            vivo:orcidId <https://orcid.org/0000-0002-1657-2383> ;\n",
      "            foaf:family_name \"Laaksonen\"@en ;\n",
      "            foaf:givenname \"A.\"@en ],\n",
      "        [ a foaf:Person ;\n",
      "            vivo:orcidId \"\"@en ;\n",
      "            foaf:family_name \"Lehtinen\"@en ;\n",
      "            foaf:givenname \"K. E. J.\"@en ],\n",
      "        [ a foaf:Person ;\n",
      "            vivo:orcidId \"\"@en ;\n",
      "            foaf:family_name \"Hamed\"@en ;\n",
      "            foaf:givenname \"A.\"@en ],\n",
      "        [ a foaf:Person ;\n",
      "            vivo:orcidId \"\"@en ;\n",
      "            foaf:family_name \"Dal Maso\"@en ;\n",
      "            foaf:givenname \"M.\"@en ],\n",
      "        [ a foaf:Person ;\n",
      "            vivo:orcidId \"\"@en ;\n",
      "            foaf:family_name \"Mikkonen\"@en ;\n",
      "            foaf:givenname \"S.\"@en ],\n",
      "        [ a foaf:Person ;\n",
      "            vivo:orcidId \"\"@en ;\n",
      "            foaf:family_name \"Cavalli\"@en ;\n",
      "            foaf:givenname \"F.\"@en ],\n",
      "        [ a foaf:Person ;\n",
      "            vivo:orcidId \"\"@en ;\n",
      "            foaf:family_name \"Joutsensaari\"@en ;\n",
      "            foaf:givenname \"J.\"@en ],\n",
      "        [ a foaf:Person ;\n",
      "            vivo:orcidId \"\"@en ;\n",
      "            foaf:family_name \"Decesari\"@en ;\n",
      "            foaf:givenname \"S.\"@en ],\n",
      "        [ a foaf:Person ;\n",
      "            vivo:orcidId \"\"@en ;\n",
      "            foaf:family_name \"Facchini\"@en ;\n",
      "            foaf:givenname \"M. C.\"@en ],\n",
      "        [ a foaf:Person ;\n",
      "            vivo:orcidId \"\"@en ;\n",
      "            foaf:family_name \"Mircea\"@en ;\n",
      "            foaf:givenname \"M.\"@en ],\n",
      "        [ a foaf:Person ;\n",
      "            vivo:orcidId \"\"@en ;\n",
      "            foaf:family_name \"Fuzzi\"@en ;\n",
      "            foaf:givenname \"S.\"@en ],\n",
      "        [ a foaf:Person ;\n",
      "            vivo:orcidId \"\"@en ;\n",
      "            foaf:family_name \"Sogacheva\"@en ;\n",
      "            foaf:givenname \"L.\"@en ],\n",
      "        [ a foaf:Person ;\n",
      "            vivo:orcidId <https://orcid.org/0000-0003-3464-7825> ;\n",
      "            foaf:family_name \"Kulmala\"@en ;\n",
      "            foaf:givenname \"M.\"@en ] ;\n",
      "    dc:date \"2007\"@en ;\n",
      "    dc:isPartOf [ a bibo:Journal ;\n",
      "            dc:title \"Atmos. Chem. Phys.\"@en ] ;\n",
      "    dc:title \"Nucleation and growth of new particles in Po Valley, Italy\"@en ;\n",
      "    bibo:doi <https://doi.org/10.5194/acp-7-355-2007> ;\n",
      "    bibo:issue \"2\"@en ;\n",
      "    bibo:pageEnd \"376\"@en ;\n",
      "    bibo:pageStart \"355\"@en ;\n",
      "    bibo:volume \"7\"@en ;\n",
      "    schema:dateModified \"2019-11-01T16:20:37.886000+00:00\"^^xsd:dateTime ;\n",
      "    owl:sameAs <https://reddine.solid.community/public/hamed07nucleation.html> .\n",
      "\n",
      "\n"
     ]
    }
   ],
   "source": [
    "print(g.serialize(format='turtle').decode('utf-8'))"
   ]
  },
  {
   "cell_type": "code",
   "execution_count": 4,
   "metadata": {},
   "outputs": [
    {
     "name": "stdout",
     "output_type": "stream",
     "text": [
      "{'id': 'R22177', 'label': 'Nucleation and growth of new particles in Po Valley, Italy', 'classes': ['Paper'], 'shared': 0, 'created': '2019-11-01T16:28:41.485'}\n"
     ]
    }
   ],
   "source": [
    "paper = save_paper(g)\n",
    "print(paper.content)"
   ]
  },
  {
   "cell_type": "code",
   "execution_count": null,
   "metadata": {},
   "outputs": [],
   "source": [
    "dataset = pd.read_csv('Table.csv')\n",
    "dataset.head()"
   ]
  },
  {
   "cell_type": "code",
   "execution_count": null,
   "metadata": {},
   "outputs": [],
   "source": [
    "dataset_resource_id = save_dataset(dataset, 'ESUC dataset')"
   ]
  },
  {
   "cell_type": "code",
   "execution_count": null,
   "metadata": {},
   "outputs": [],
   "source": [
    "yields_predicate_id = 'P1'\n",
    "api = 'http://localhost:8000/api/'\n",
    "api_statements = '{}statements/'.format(api)\n",
    "requests.post(api_statements, json={ \n",
    "                                    'subject_id': contribution_id, \n",
    "                                    'predicate_id': yields_predicate_id, \n",
    "                                    'object': {'id': dataset_resource_id, '_class': 'resource'} \n",
    "                                    }, headers={'Content-Type':'application/json'})"
   ]
  }
 ],
 "metadata": {
  "kernelspec": {
   "display_name": "Python 3",
   "language": "python",
   "name": "python3"
  },
  "language_info": {
   "codemirror_mode": {
    "name": "ipython",
    "version": 3
   },
   "file_extension": ".py",
   "mimetype": "text/x-python",
   "name": "python",
   "nbconvert_exporter": "python",
   "pygments_lexer": "ipython3",
   "version": "3.6.8"
  }
 },
 "nbformat": 4,
 "nbformat_minor": 2
}
